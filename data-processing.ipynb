{
 "cells": [
  {
   "cell_type": "code",
   "execution_count": 3,
   "metadata": {},
   "outputs": [],
   "source": [
    "import pandas as pd \n"
   ]
  },
  {
   "cell_type": "markdown",
   "metadata": {},
   "source": [
    "# Job Opening Dataprocessing"
   ]
  },
  {
   "cell_type": "code",
   "execution_count": 38,
   "metadata": {},
   "outputs": [
    {
     "data": {
      "text/plain": [
       "[7.0,\n",
       " 7.2,\n",
       " 7.4,\n",
       " 7.2,\n",
       " 7.0,\n",
       " 6.9,\n",
       " 7.0,\n",
       " 6.2,\n",
       " 6.6,\n",
       " 6.4,\n",
       " 6.5,\n",
       " 6.7,\n",
       " 6.3,\n",
       " 6.0,\n",
       " 5.8,\n",
       " 6.0,\n",
       " 5.6,\n",
       " 5.5,\n",
       " 5.3,\n",
       " 5.6,\n",
       " 5.6,\n",
       " 5.2,\n",
       " 5.4,\n",
       " 5.3,\n",
       " 5.3,\n",
       " 5.3,\n",
       " 5.1]"
      ]
     },
     "execution_count": 38,
     "metadata": {},
     "output_type": "execute_result"
    }
   ],
   "source": [
    "df = pd.read_csv(\"job-opening_dataset.csv\")\n",
    "job_opening_2022_to_2024 = df['JTSJOR'].tolist()\n",
    "job_opening_2022_to_2024\n"
   ]
  },
  {
   "cell_type": "markdown",
   "metadata": {},
   "source": [
    "# Total Separations: Total Nonfarm\n"
   ]
  },
  {
   "cell_type": "code",
   "execution_count": 40,
   "metadata": {},
   "outputs": [
    {
     "data": {
      "text/html": [
       "<div>\n",
       "<style scoped>\n",
       "    .dataframe tbody tr th:only-of-type {\n",
       "        vertical-align: middle;\n",
       "    }\n",
       "\n",
       "    .dataframe tbody tr th {\n",
       "        vertical-align: top;\n",
       "    }\n",
       "\n",
       "    .dataframe thead th {\n",
       "        text-align: right;\n",
       "    }\n",
       "</style>\n",
       "<table border=\"1\" class=\"dataframe\">\n",
       "  <thead>\n",
       "    <tr style=\"text-align: right;\">\n",
       "      <th></th>\n",
       "      <th>DATE</th>\n",
       "      <th>JTSTSR</th>\n",
       "    </tr>\n",
       "  </thead>\n",
       "  <tbody>\n",
       "    <tr>\n",
       "      <th>0</th>\n",
       "      <td>2022-01-01</td>\n",
       "      <td>4.2</td>\n",
       "    </tr>\n",
       "    <tr>\n",
       "      <th>1</th>\n",
       "      <td>2022-02-01</td>\n",
       "      <td>4.0</td>\n",
       "    </tr>\n",
       "    <tr>\n",
       "      <th>2</th>\n",
       "      <td>2022-03-01</td>\n",
       "      <td>4.1</td>\n",
       "    </tr>\n",
       "    <tr>\n",
       "      <th>3</th>\n",
       "      <td>2022-04-01</td>\n",
       "      <td>4.1</td>\n",
       "    </tr>\n",
       "    <tr>\n",
       "      <th>4</th>\n",
       "      <td>2022-05-01</td>\n",
       "      <td>4.0</td>\n",
       "    </tr>\n",
       "    <tr>\n",
       "      <th>5</th>\n",
       "      <td>2022-06-01</td>\n",
       "      <td>3.9</td>\n",
       "    </tr>\n",
       "    <tr>\n",
       "      <th>6</th>\n",
       "      <td>2022-07-01</td>\n",
       "      <td>3.8</td>\n",
       "    </tr>\n",
       "    <tr>\n",
       "      <th>7</th>\n",
       "      <td>2022-08-01</td>\n",
       "      <td>4.0</td>\n",
       "    </tr>\n",
       "    <tr>\n",
       "      <th>8</th>\n",
       "      <td>2022-09-01</td>\n",
       "      <td>3.8</td>\n",
       "    </tr>\n",
       "    <tr>\n",
       "      <th>9</th>\n",
       "      <td>2022-10-01</td>\n",
       "      <td>3.8</td>\n",
       "    </tr>\n",
       "    <tr>\n",
       "      <th>10</th>\n",
       "      <td>2022-11-01</td>\n",
       "      <td>3.8</td>\n",
       "    </tr>\n",
       "    <tr>\n",
       "      <th>11</th>\n",
       "      <td>2022-12-01</td>\n",
       "      <td>3.9</td>\n",
       "    </tr>\n",
       "    <tr>\n",
       "      <th>12</th>\n",
       "      <td>2023-01-01</td>\n",
       "      <td>3.9</td>\n",
       "    </tr>\n",
       "    <tr>\n",
       "      <th>13</th>\n",
       "      <td>2023-02-01</td>\n",
       "      <td>3.8</td>\n",
       "    </tr>\n",
       "    <tr>\n",
       "      <th>14</th>\n",
       "      <td>2023-03-01</td>\n",
       "      <td>3.8</td>\n",
       "    </tr>\n",
       "    <tr>\n",
       "      <th>15</th>\n",
       "      <td>2023-04-01</td>\n",
       "      <td>3.6</td>\n",
       "    </tr>\n",
       "    <tr>\n",
       "      <th>16</th>\n",
       "      <td>2023-05-01</td>\n",
       "      <td>3.8</td>\n",
       "    </tr>\n",
       "    <tr>\n",
       "      <th>17</th>\n",
       "      <td>2023-06-01</td>\n",
       "      <td>3.6</td>\n",
       "    </tr>\n",
       "    <tr>\n",
       "      <th>18</th>\n",
       "      <td>2023-07-01</td>\n",
       "      <td>3.6</td>\n",
       "    </tr>\n",
       "    <tr>\n",
       "      <th>19</th>\n",
       "      <td>2023-08-01</td>\n",
       "      <td>3.6</td>\n",
       "    </tr>\n",
       "    <tr>\n",
       "      <th>20</th>\n",
       "      <td>2023-09-01</td>\n",
       "      <td>3.5</td>\n",
       "    </tr>\n",
       "    <tr>\n",
       "      <th>21</th>\n",
       "      <td>2023-10-01</td>\n",
       "      <td>3.6</td>\n",
       "    </tr>\n",
       "    <tr>\n",
       "      <th>22</th>\n",
       "      <td>2023-11-01</td>\n",
       "      <td>3.4</td>\n",
       "    </tr>\n",
       "    <tr>\n",
       "      <th>23</th>\n",
       "      <td>2023-12-01</td>\n",
       "      <td>3.4</td>\n",
       "    </tr>\n",
       "    <tr>\n",
       "      <th>24</th>\n",
       "      <td>2024-01-01</td>\n",
       "      <td>3.5</td>\n",
       "    </tr>\n",
       "    <tr>\n",
       "      <th>25</th>\n",
       "      <td>2024-02-01</td>\n",
       "      <td>3.5</td>\n",
       "    </tr>\n",
       "    <tr>\n",
       "      <th>26</th>\n",
       "      <td>2024-03-01</td>\n",
       "      <td>3.3</td>\n",
       "    </tr>\n",
       "  </tbody>\n",
       "</table>\n",
       "</div>"
      ],
      "text/plain": [
       "          DATE  JTSTSR\n",
       "0   2022-01-01     4.2\n",
       "1   2022-02-01     4.0\n",
       "2   2022-03-01     4.1\n",
       "3   2022-04-01     4.1\n",
       "4   2022-05-01     4.0\n",
       "5   2022-06-01     3.9\n",
       "6   2022-07-01     3.8\n",
       "7   2022-08-01     4.0\n",
       "8   2022-09-01     3.8\n",
       "9   2022-10-01     3.8\n",
       "10  2022-11-01     3.8\n",
       "11  2022-12-01     3.9\n",
       "12  2023-01-01     3.9\n",
       "13  2023-02-01     3.8\n",
       "14  2023-03-01     3.8\n",
       "15  2023-04-01     3.6\n",
       "16  2023-05-01     3.8\n",
       "17  2023-06-01     3.6\n",
       "18  2023-07-01     3.6\n",
       "19  2023-08-01     3.6\n",
       "20  2023-09-01     3.5\n",
       "21  2023-10-01     3.6\n",
       "22  2023-11-01     3.4\n",
       "23  2023-12-01     3.4\n",
       "24  2024-01-01     3.5\n",
       "25  2024-02-01     3.5\n",
       "26  2024-03-01     3.3"
      ]
     },
     "execution_count": 40,
     "metadata": {},
     "output_type": "execute_result"
    }
   ],
   "source": [
    "df = pd.read_csv(\"total_separation_yearly.csv\")\n",
    "\n",
    "separation_2022_to_2024 = df['JTSTSR'].tolist()\n",
    "df"
   ]
  },
  {
   "cell_type": "markdown",
   "metadata": {},
   "source": [
    "# Average Hourly Earnings of All Employees"
   ]
  },
  {
   "cell_type": "code",
   "execution_count": 41,
   "metadata": {},
   "outputs": [
    {
     "data": {
      "text/plain": [
       "[31.63,\n",
       " 31.65,\n",
       " 31.84,\n",
       " 31.95,\n",
       " 32.08,\n",
       " 32.2,\n",
       " 32.33,\n",
       " 32.44,\n",
       " 32.54,\n",
       " 32.7,\n",
       " 32.83,\n",
       " 32.94,\n",
       " 33.07,\n",
       " 33.15,\n",
       " 33.31,\n",
       " 33.44,\n",
       " 33.54,\n",
       " 33.7,\n",
       " 33.84,\n",
       " 33.91,\n",
       " 34.01,\n",
       " 34.1,\n",
       " 34.23,\n",
       " 34.34,\n",
       " 34.51,\n",
       " 34.56,\n",
       " 34.68,\n",
       " 34.75]"
      ]
     },
     "execution_count": 41,
     "metadata": {},
     "output_type": "execute_result"
    }
   ],
   "source": [
    "df = pd.read_csv(\"average_hourly_earning.csv\")\n",
    "average_hourly_earning_2022_to_2024 = df[\"CES0500000003\"].tolist()\n",
    "average_hourly_earning_2022_to_2024"
   ]
  },
  {
   "cell_type": "markdown",
   "metadata": {},
   "source": [
    "# CPI "
   ]
  },
  {
   "cell_type": "code",
   "execution_count": 42,
   "metadata": {},
   "outputs": [
    {
     "data": {
      "text/plain": [
       "[282.39,\n",
       " 284.535,\n",
       " 287.553,\n",
       " 288.764,\n",
       " 291.359,\n",
       " 294.996,\n",
       " 294.977,\n",
       " 295.209,\n",
       " 296.341,\n",
       " 297.863,\n",
       " 298.648,\n",
       " 298.812,\n",
       " 300.356,\n",
       " 301.509,\n",
       " 301.744,\n",
       " 303.032,\n",
       " 303.365,\n",
       " 304.003,\n",
       " 304.628,\n",
       " 306.187,\n",
       " 307.288,\n",
       " 307.531,\n",
       " 308.024,\n",
       " 308.742,\n",
       " 309.685,\n",
       " 311.054,\n",
       " 312.23]"
      ]
     },
     "execution_count": 42,
     "metadata": {},
     "output_type": "execute_result"
    }
   ],
   "source": [
    "df = pd.read_csv(\"CPI.csv\")\n",
    "cpi_2022_to_2024 = df[\"CPIAUCSL\"].tolist()\n",
    "cpi_2022_to_2024"
   ]
  },
  {
   "cell_type": "markdown",
   "metadata": {},
   "source": [
    "# Labor Force Participation Rate\n"
   ]
  },
  {
   "cell_type": "code",
   "execution_count": 58,
   "metadata": {},
   "outputs": [
    {
     "data": {
      "text/plain": [
       "[62.2,\n",
       " 62.2,\n",
       " 62.3,\n",
       " 62.2,\n",
       " 62.3,\n",
       " 62.2,\n",
       " 62.1,\n",
       " 62.4,\n",
       " 62.3,\n",
       " 62.3,\n",
       " 62.1,\n",
       " 62.3,\n",
       " 62.4,\n",
       " 62.5,\n",
       " 62.6,\n",
       " 62.6,\n",
       " 62.6,\n",
       " 62.6,\n",
       " 62.6,\n",
       " 62.8,\n",
       " 62.8,\n",
       " 62.7,\n",
       " 62.8,\n",
       " 62.5,\n",
       " 62.5,\n",
       " 62.5,\n",
       " 62.7,\n",
       " 62.7]"
      ]
     },
     "execution_count": 58,
     "metadata": {},
     "output_type": "execute_result"
    }
   ],
   "source": [
    "df = pd.read_csv(\"labor_force_participation_rate.csv\")\n",
    "labor_force_participation_rate = df[\"CIVPART\"].tolist()\n",
    "labor_force_participation_rate"
   ]
  },
  {
   "cell_type": "code",
   "execution_count": 48,
   "metadata": {},
   "outputs": [
    {
     "name": "stdout",
     "output_type": "stream",
     "text": [
      "27\n",
      "28\n",
      "27\n"
     ]
    },
    {
     "data": {
      "text/plain": [
       "array([[31.63      ,  4.2       ,  7.        ],\n",
       "       [31.65      ,  4.        ,  7.2       ],\n",
       "       [31.50582467,  4.1       ,  7.4       ],\n",
       "       [31.48208658,  4.1       ,  7.2       ],\n",
       "       [31.32864542,  4.        ,  7.        ],\n",
       "       [31.05813977,  3.9       ,  6.9       ],\n",
       "       [31.18553836,  3.8       ,  7.        ],\n",
       "       [31.26705283,  4.        ,  6.2       ],\n",
       "       [31.24363115,  3.8       ,  6.6       ],\n",
       "       [31.23682532,  3.8       ,  6.4       ],\n",
       "       [31.27857561,  3.8       ,  6.5       ],\n",
       "       [31.36615297,  3.9       ,  6.7       ],\n",
       "       [31.32806553,  3.9       ,  6.3       ],\n",
       "       [31.28376019,  3.8       ,  6.        ],\n",
       "       [31.41027112,  3.8       ,  5.8       ],\n",
       "       [31.39883049,  3.6       ,  6.        ],\n",
       "       [31.45815734,  3.8       ,  5.6       ],\n",
       "       [31.54189103,  3.6       ,  5.5       ],\n",
       "       [31.6079428 ,  3.6       ,  5.3       ],\n",
       "       [31.51205587,  3.6       ,  5.6       ],\n",
       "       [31.49174504,  3.5       ,  5.6       ],\n",
       "       [31.55013153,  3.6       ,  5.2       ],\n",
       "       [31.61972135,  3.4       ,  5.4       ],\n",
       "       [31.64756301,  3.4       ,  5.3       ],\n",
       "       [31.70738928,  3.5       ,  5.3       ],\n",
       "       [31.61357706,  3.5       ,  5.3       ],\n",
       "       [31.6038619 ,  3.3       ,  5.1       ]])"
      ]
     },
     "execution_count": 48,
     "metadata": {},
     "output_type": "execute_result"
    }
   ],
   "source": [
    "import numpy as np\n",
    "from sklearn.linear_model import LinearRegression\n",
    "from sklearn.model_selection import train_test_split\n",
    "from sklearn.metrics import mean_squared_error\n",
    "print(len(cpi_2022_to_2024))\n",
    "print(len(average_hourly_earning_2022_to_2024))\n",
    "print(len(separation_2022_to_2024))\n",
    "inflation_adjusted_wages = [average_hourly_earning_2022_to_2024[0]]\n",
    "for i in range(1,len(cpi_2022_to_2024)):\n",
    "    new_wage = average_hourly_earning_2022_to_2024[i]/(cpi_2022_to_2024[i]/cpi_2022_to_2024[1])\n",
    "    inflation_adjusted_wages.append(new_wage)\n",
    "\n",
    "\n",
    "X_pre = [inflation_adjusted_wages,separation_2022_to_2024,job_opening_2022_to_2024]\n",
    "X = np.array(X_pre).T\n",
    "y = [4.0,3.8,3.6,3.7,3.6,3.6,3.5,3.6,3.5,3.6,3.6,3.5,3.4,3.6,3.5,3.4,3.7,3.6,3.5,3.8,3.8,3.8,3.7,3.7,3.7,3.9,3.8]\n",
    "X"
   ]
  },
  {
   "cell_type": "code",
   "execution_count": 53,
   "metadata": {},
   "outputs": [
    {
     "name": "stdout",
     "output_type": "stream",
     "text": [
      "Mean Squared Error: 0.0224559938450085\n",
      "Predicted Unemployment Rate for January 2024: 3.600570071462382\n"
     ]
    }
   ],
   "source": [
    "X_train, X_test, y_train, y_test = train_test_split(X, y, test_size=0.2, random_state=0)\n",
    "model = LinearRegression()\n",
    "model.fit(X_train, y_train)\n",
    "y_pred = model.predict(X_test)\n",
    "mse = mean_squared_error(y_test, y_pred)\n",
    "print(\"Mean Squared Error:\", mse)\n",
    "# Predicting the unemployment rate for the next month (assuming the data ends in December 2023)\n",
    "next_month = np.array([[np.mean(inflation_adjusted_wages),np.average(job_opening_2022_to_2024[-4:]),np.average(job_opening_2022_to_2024[-4:])]])  # January 2024 would be month 121\n",
    "predicted_rate = model.predict(next_month)\n",
    "print(\"Predicted Unemployment Rate for January 2024:\", predicted_rate[0])\n"
   ]
  },
  {
   "cell_type": "code",
   "execution_count": null,
   "metadata": {},
   "outputs": [],
   "source": []
  }
 ],
 "metadata": {
  "kernelspec": {
   "display_name": "Python 3",
   "language": "python",
   "name": "python3"
  },
  "language_info": {
   "codemirror_mode": {
    "name": "ipython",
    "version": 3
   },
   "file_extension": ".py",
   "mimetype": "text/x-python",
   "name": "python",
   "nbconvert_exporter": "python",
   "pygments_lexer": "ipython3",
   "version": "3.11.4"
  },
  "orig_nbformat": 4
 },
 "nbformat": 4,
 "nbformat_minor": 2
}
